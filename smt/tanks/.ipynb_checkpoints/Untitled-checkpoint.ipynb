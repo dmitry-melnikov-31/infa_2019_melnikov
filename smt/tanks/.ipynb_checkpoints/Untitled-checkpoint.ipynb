{
 "cells": [
  {
   "cell_type": "code",
   "execution_count": 1,
   "metadata": {},
   "outputs": [],
   "source": [
    "import numpy as np\n"
   ]
  },
  {
   "cell_type": "code",
   "execution_count": 8,
   "metadata": {},
   "outputs": [],
   "source": [
    "file = open('rezults.csv', 'r')\n",
    "rezults = file.read()\n",
    "file.close()"
   ]
  },
  {
   "cell_type": "code",
   "execution_count": 20,
   "metadata": {},
   "outputs": [
    {
     "name": "stdout",
     "output_type": "stream",
     "text": [
      "[['3', '383'], ['6', '184'], ['9', '634'], ['12', '384'], ['14', '134'], ['16', '534'], ['18', '684'], ['21', '184'], ['28', '833'], ['34', '133'], ['38', '582'], ['39', '385'], ['40', '585'], ['48', '133'], ['49', '785'], ['37', '3'], ['10', '306'], ['27', '6'], ['36', '6'], ['22', '8'], ['35', '108'], ['41', '8'], ['42', '8'], ['2', '11'], ['4', '11'], ['30', '11'], ['45', '12'], ['19', '263'], ['32', '263'], ['7', '15'], ['31', '14'], ['43', '265'], ['20', '20'], ['15', '24'], ['5', '29'], ['0', '33'], ['44', '36'], ['47', '42'], ['11', '43'], ['13', '644'], ['23', '693'], ['17', '45'], ['33', '43'], ['46', '396'], ['8', '556'], ['25', '63'], ['29', '863'], ['1', '417'], ['24', '417'], ['26', '103']]\n"
     ]
    }
   ],
   "source": [
    "ar = []\n",
    "for i in rezults.split('\\n'):\n",
    "    ar.append(i.split(','))\n",
    "ar.pop(-1)\n",
    "print(ar)"
   ]
  },
  {
   "cell_type": "code",
   "execution_count": 23,
   "metadata": {},
   "outputs": [],
   "source": [
    "z = []\n",
    "for i in range(len(ar)):\n",
    "    z.append((ar[i][0], ar[i][1]))\n",
    "dtype = [('number', int), ('points', int)]\n",
    "rez = np.array(z, dtype = dtype)"
   ]
  },
  {
   "cell_type": "code",
   "execution_count": 28,
   "metadata": {},
   "outputs": [
    {
     "name": "stdout",
     "output_type": "stream",
     "text": [
      "[(48, 133) (14, 134) ( 6, 184) (21, 184) (19, 263) (32, 263) (43, 265)\n",
      " (10, 306) ( 3, 383) (12, 384) (39, 385) (46, 396) ( 1, 417) (24, 417)\n",
      " (16, 534) ( 8, 556) (38, 582) (40, 585) ( 9, 634) (13, 644) (18, 684)\n",
      " (23, 693) (49, 785) (28, 833)]\n"
     ]
    }
   ],
   "source": [
    "np.sort(rez, order = 'points')\n",
    "rez = rez[25:49]\n",
    "print(rez)"
   ]
  },
  {
   "cell_type": "code",
   "execution_count": null,
   "metadata": {},
   "outputs": [],
   "source": [
    "winners = []\n",
    "for i in rez:\n",
    "    winners.append(i[0])"
   ]
  }
 ],
 "metadata": {
  "kernelspec": {
   "display_name": "Python 3",
   "language": "python",
   "name": "python3"
  },
  "language_info": {
   "codemirror_mode": {
    "name": "ipython",
    "version": 3
   },
   "file_extension": ".py",
   "mimetype": "text/x-python",
   "name": "python",
   "nbconvert_exporter": "python",
   "pygments_lexer": "ipython3",
   "version": "3.6.8"
  }
 },
 "nbformat": 4,
 "nbformat_minor": 2
}
